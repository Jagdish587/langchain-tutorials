{
 "cells": [
  {
   "cell_type": "markdown",
   "id": "d2f0e269",
   "metadata": {},
   "source": [
    "### Embedded Technques using Hugging Face"
   ]
  },
  {
   "cell_type": "code",
   "execution_count": 6,
   "id": "484ab922",
   "metadata": {},
   "outputs": [],
   "source": [
    "import os\n",
    "from dotenv import load_dotenv\n",
    "\n",
    "# Load variables from .env file\n",
    "load_dotenv()\n",
    "\n",
    "# Access the Hugging Face token\n",
    "hf_token = os.getenv(\"HUGGINGFACEHUB_API_TOKEN\")\n"
   ]
  },
  {
   "cell_type": "code",
   "execution_count": 7,
   "id": "d8e8ce7b",
   "metadata": {},
   "outputs": [
    {
     "name": "stderr",
     "output_type": "stream",
     "text": [
      "c:\\Users\\tjag5\\langchain-tutorials\\langvenv\\langchain-tutorials\\langvenv\\Lib\\site-packages\\tqdm\\auto.py:21: TqdmWarning: IProgress not found. Please update jupyter and ipywidgets. See https://ipywidgets.readthedocs.io/en/stable/user_install.html\n",
      "  from .autonotebook import tqdm as notebook_tqdm\n",
      "c:\\Users\\tjag5\\langchain-tutorials\\langvenv\\langchain-tutorials\\langvenv\\Lib\\site-packages\\huggingface_hub\\file_download.py:143: UserWarning: `huggingface_hub` cache-system uses symlinks by default to efficiently store duplicated files but your machine does not support them in C:\\Users\\tjag5\\.cache\\huggingface\\hub\\models--sentence-transformers--all-MiniLM-L6-v2. Caching files will still work but in a degraded version that might require more space on your disk. This warning can be disabled by setting the `HF_HUB_DISABLE_SYMLINKS_WARNING` environment variable. For more details, see https://huggingface.co/docs/huggingface_hub/how-to-cache#limitations.\n",
      "To support symlinks on Windows, you either need to activate Developer Mode or to run Python as an administrator. In order to activate developer mode, see this article: https://docs.microsoft.com/en-us/windows/apps/get-started/enable-your-device-for-development\n",
      "  warnings.warn(message)\n",
      "Xet Storage is enabled for this repo, but the 'hf_xet' package is not installed. Falling back to regular HTTP download. For better performance, install the package with: `pip install huggingface_hub[hf_xet]` or `pip install hf_xet`\n"
     ]
    }
   ],
   "source": [
    "from langchain.embeddings import HuggingFaceEmbeddings\n",
    "\n",
    "# Initialize embedding model (runs locally using sentence-transformers)\n",
    "embedding_model = HuggingFaceEmbeddings(\n",
    "    model_name=\"sentence-transformers/all-MiniLM-L6-v2\"\n",
    ")\n"
   ]
  },
  {
   "cell_type": "markdown",
   "id": "8f8b39e3",
   "metadata": {},
   "source": [
    "### Texts to embedded"
   ]
  },
  {
   "cell_type": "code",
   "execution_count": 9,
   "id": "8219143a",
   "metadata": {},
   "outputs": [
    {
     "name": "stdout",
     "output_type": "stream",
     "text": [
      "\n",
      "--- Embedding 1 ---\n",
      "Length: 384\n",
      "Preview: [-0.029253385961055756, -0.03157414123415947, 0.008384971879422665, -0.09047165513038635, 0.020469117909669876]...\n",
      "\n",
      "--- Embedding 2 ---\n",
      "Length: 384\n",
      "Preview: [-0.023237472400069237, 0.06839925050735474, -0.05747893825173378, 0.010138127021491528, -0.061703842133283615]...\n"
     ]
    },
    {
     "data": {
      "text/plain": [
       "2"
      ]
     },
     "execution_count": 9,
     "metadata": {},
     "output_type": "execute_result"
    }
   ],
   "source": [
    "# Texts to embed\n",
    "texts = [\n",
    "    \"LangChain is a framework for building LLM-powered apps.\",\n",
    "    \"Mount Everest is the tallest mountain.\"\n",
    "]\n",
    "\n",
    "# Generate embeddings\n",
    "vectors = embedding_model.embed_documents(texts)\n",
    "\n",
    "# Preview\n",
    "for i, vec in enumerate(vectors):\n",
    "    print(f\"\\n--- Embedding {i+1} ---\")\n",
    "    print(f\"Length: {len(vec)}\")\n",
    "    print(f\"Preview: {vec[:5]}...\")\n",
    "\n",
    "len(vectors)"
   ]
  },
  {
   "cell_type": "markdown",
   "id": "9a7c39e4",
   "metadata": {},
   "source": [
    "### FAISS\n",
    "FAISS stands for Facebook AI Similarity Search.\n",
    "It is a high-performance library developed by Meta (Facebook AI Research) to:<br>\n",
    "Store high-dimensional vectors (like text embeddings)<br>\n",
    "Efficiently search for the most similar ones — even across millions of vectors<br>\n",
    "\n",
    "FAISS is a vector store that makes it possible to search documents by meaning, not just by words.<br> It’s a key building block for apps using LLMs + retrieval."
   ]
  },
  {
   "cell_type": "code",
   "execution_count": 12,
   "id": "8d0233c6",
   "metadata": {},
   "outputs": [],
   "source": [
    "from langchain_community.vectorstores import FAISS\n",
    "from langchain.schema import Document\n",
    "\n",
    "# 2. Convert texts to LangChain Documents\n",
    "docs = [Document(page_content=text) for text in texts]\n",
    "\n"
   ]
  },
  {
   "cell_type": "code",
   "execution_count": 13,
   "id": "0b199ec0",
   "metadata": {},
   "outputs": [],
   "source": [
    "# 4. Build FAISS index from documents\n",
    "vector_store = FAISS.from_documents(docs, embedding_model)"
   ]
  },
  {
   "cell_type": "code",
   "execution_count": 14,
   "id": "9e2af00f",
   "metadata": {},
   "outputs": [
    {
     "name": "stdout",
     "output_type": "stream",
     "text": [
      "\n",
      "Top Match:\n",
      "Mount Everest is the tallest mountain.\n"
     ]
    }
   ],
   "source": [
    "# 5. Perform a similarity search\n",
    "query = \"What is the tallest mountain?\"\n",
    "results = vector_store.similarity_search(query, k=1)\n",
    "\n",
    "# 6. Display the result\n",
    "print(\"\\nTop Match:\")\n",
    "print(results[0].page_content)"
   ]
  },
  {
   "cell_type": "markdown",
   "id": "10e76e73",
   "metadata": {},
   "source": [
    "### How FAISS Works in LangChain ??<br> \n",
    "🔤 Input text → turned into embeddings using a model (e.g. HuggingFace, OpenAI)\n",
    "\n",
    "💾 Store those embeddings in FAISS\n",
    "\n",
    "🔍 Query with another embedding, and FAISS returns the closest matches"
   ]
  },
  {
   "cell_type": "markdown",
   "id": "50e27612",
   "metadata": {},
   "source": [
    "### Real-World Example\n",
    "Imagine you build a chatbot that answers questions over company docs:\n",
    "\n",
    "You split your documents into chunks\n",
    "\n",
    "You embed each chunk and save in FAISS\n",
    "\n",
    "When the user asks, \"What’s our refund policy?\", LangChain:\n",
    "\n",
    "Embeds the query\n",
    "\n",
    "Uses FAISS to find the most relevant document chunks\n",
    "\n",
    "Feeds those chunks to the LLM to generate an accurate answer"
   ]
  },
  {
   "cell_type": "markdown",
   "id": "4b3bf0da",
   "metadata": {},
   "source": [
    "### Additional reading\n",
    "https://python.langchain.com/docs/integrations/vectorstores/faiss/"
   ]
  }
 ],
 "metadata": {
  "kernelspec": {
   "display_name": "langvenv",
   "language": "python",
   "name": "python3"
  },
  "language_info": {
   "codemirror_mode": {
    "name": "ipython",
    "version": 3
   },
   "file_extension": ".py",
   "mimetype": "text/x-python",
   "name": "python",
   "nbconvert_exporter": "python",
   "pygments_lexer": "ipython3",
   "version": "3.13.3"
  }
 },
 "nbformat": 4,
 "nbformat_minor": 5
}
