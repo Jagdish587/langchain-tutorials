{
 "cells": [
  {
   "cell_type": "code",
   "execution_count": null,
   "id": "609ac177",
   "metadata": {},
   "outputs": [
    {
     "name": "stdout",
     "output_type": "stream",
     "text": [
      "\n",
      "Top Results:\n",
      "\n",
      "--- Result 1 ---\n",
      "Mount Everest is the tallest mountain in the world.\n",
      "The Eiffel Tower is in Paris.\n",
      "\n",
      "--- Result 2 ---\n",
      "queried based on similarity to a user's question.\n"
     ]
    }
   ],
   "source": [
    "from langchain_community.document_loaders import TextLoader\n",
    "from langchain.text_splitter import RecursiveCharacterTextSplitter\n",
    "from langchain.embeddings import HuggingFaceEmbeddings\n",
    "from langchain_community.vectorstores import Chroma\n",
    "\n",
    "# 1. Load text from file\n",
    "loader = TextLoader(\"newexample.txt\")\n",
    "docs = loader.load()\n",
    "\n",
    "# 2. Split text into smaller chunks\n",
    "splitter = RecursiveCharacterTextSplitter(chunk_size=100, chunk_overlap=20)\n",
    "chunks = splitter.split_documents(docs)\n",
    "\n",
    "# 3. Initialize embedding model\n",
    "embedding_model = HuggingFaceEmbeddings(model_name=\"sentence-transformers/all-MiniLM-L6-v2\")\n",
    "\n",
    "# 4. Create a Chroma DB from documents\n",
    "db = Chroma.from_documents(chunks, embedding_model, persist_directory=\"chroma_store\")\n",
    "\n",
    "# 5. Save the DB to disk\n",
    "db.persist()\n",
    "\n",
    "# 6. Load from disk (optional step)\n",
    "db = Chroma(persist_directory=\"chroma_store\", embedding_function=embedding_model)\n",
    "\n",
    "# 7. Perform similarity search\n",
    "query = \"What is the tallest mountain?\"\n",
    "results = db.similarity_search(query, k=2)\n",
    "\n",
    "# 8. Print results\n",
    "print(\"\\nTop Results:\")\n",
    "for i, doc in enumerate(results):\n",
    "    print(f\"\\n--- Result {i+1} ---\\n{doc.page_content}\")\n"
   ]
  }
 ],
 "metadata": {
  "kernelspec": {
   "display_name": "langvenv",
   "language": "python",
   "name": "python3"
  },
  "language_info": {
   "codemirror_mode": {
    "name": "ipython",
    "version": 3
   },
   "file_extension": ".py",
   "mimetype": "text/x-python",
   "name": "python",
   "nbconvert_exporter": "python",
   "pygments_lexer": "ipython3",
   "version": "3.13.3"
  }
 },
 "nbformat": 4,
 "nbformat_minor": 5
}
